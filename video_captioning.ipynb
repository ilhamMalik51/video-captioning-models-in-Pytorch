{
 "cells": [
  {
   "cell_type": "code",
   "execution_count": 1,
   "metadata": {},
   "outputs": [],
   "source": [
    "import os\n",
    "import pickle\n",
    "\n",
    "import torch\n",
    "import torch.nn as nn\n",
    "from torch import optim\n",
    "import torch.nn.functional as F\n",
    "\n",
    "%matplotlib inline\n",
    "\n",
    "from dictionary import Vocabulary,EOS_token,PAD_token,SOS_token,UNK_token\n",
    "from evaluate import Evaluator\n",
    "\n",
    "from models.mean_pooling.config import Config,Path\n",
    "from models.mean_pooling.data import DataHandler\n",
    "from models.mean_pooling.model import MeanPooling\n",
    "from models.mean_pooling import utils\n",
    "\n",
    "cfg = Config()\n",
    "cfg.dataset = 'msrvtt'\n",
    "path = Path(cfg,os.getcwd())\n",
    "utils.set_seed(1)\n",
    "#cfg.batch_size = 100\n",
    "#cfg.n_layers = 2"
   ]
  },
  {
   "cell_type": "markdown",
   "metadata": {},
   "source": [
    "\n",
    "\n",
    "    image feature dimension = 1920 (4096 in original paper)\n",
    "    \n",
    "    embedding dimension = 256\n",
    "    \n",
    "    word embedding = 256\n",
    "    \n",
    "    dropout = 0.4\n",
    "    \n",
    "    hidden memory = 256\n",
    "    \n",
    "    number of layers in LSTM = 2 (2 in original paper)\n",
    "    \n",
    "    video feature fed to = initial hidden memory of the decoder (not same as paper)\n",
    "    \n",
    "    Training method = mixture of teacher forcing \\& sampling\n",
    "    \n",
    "    Initial teacher forcing ratio = 0.3\n",
    "    \n",
    "    optimizer = Adam\n",
    "    \n"
   ]
  },
  {
   "cell_type": "markdown",
   "metadata": {},
   "source": [
    "# Vocabulary Object Creation and loading"
   ]
  },
  {
   "cell_type": "code",
   "execution_count": 2,
   "metadata": {},
   "outputs": [
    {
     "name": "stdout",
     "output_type": "stream",
     "text": [
      "Vocabulary Size :  29327\n"
     ]
    }
   ],
   "source": [
    "# #if first time or vocabulary is not saved\n",
    "# text_dict = {}\n",
    "# voc = Vocabulary(cfg.dataset)\n",
    "# data_handler = DataHandler(cfg,path,voc)\n",
    "# text_dict.update(data_handler.train_dict)\n",
    "# text_dict.update(data_handler.val_dict)\n",
    "# text_dict.update(data_handler.test_dict)\n",
    "# for k,v in text_dict.items():\n",
    "#     for anno in v:'\n",
    "#         voc.addSentence(anno)\n",
    "\n",
    "# voc.save()\n",
    "\n",
    "#if vocabulary is already saved\n",
    "voc = Vocabulary(cfg.dataset)\n",
    "voc.load()\n",
    "print('Vocabulary Size : ',voc.num_words)\n",
    "\n",
    "\n",
    "#Filter Rare Words from Dictionary\n",
    "# min_count = 2\n",
    "# voc.trim(min_count=2)\n",
    "# print('Vocabulary Size : ',voc.num_words)"
   ]
  },
  {
   "cell_type": "markdown",
   "metadata": {},
   "source": [
    "# Data Loader"
   ]
  },
  {
   "cell_type": "code",
   "execution_count": 3,
   "metadata": {},
   "outputs": [
    {
     "name": "stderr",
     "output_type": "stream",
     "text": [
      "/home/nasibullah/Anaconda_Workspace/Vision and Language/Video Captioning/Github/models/mean_pooling/data.py:86: H5pyDeprecationWarning: dataset.value has been deprecated. Use dataset[()] instead.\n",
      "  self.feature_dict[key] = f1[key].value.mean(axis=0)\n"
     ]
    }
   ],
   "source": [
    "data_handler = DataHandler(cfg,path,voc)\n",
    "train_dset,val_dset,test_dset = data_handler.getDatasets()\n",
    "train_loader,val_loader,test_loader = data_handler.getDataloader(train_dset,val_dset,test_dset)\n",
    "\n",
    "# dataiter = iter(train_loader)\n",
    "# features, targets, mask, max_length,ides= dataiter.next()\n",
    "# features.size(), targets[:,5], mask[:,5],max_length,ides\n",
    "\n",
    "test_evaluator = Evaluator('test','test',test_loader,cfg,data_handler.test_dict)"
   ]
  },
  {
   "cell_type": "code",
   "execution_count": 4,
   "metadata": {},
   "outputs": [],
   "source": [
    "model = MeanPooling(voc,cfg,path)"
   ]
  },
  {
   "cell_type": "code",
   "execution_count": null,
   "metadata": {},
   "outputs": [],
   "source": [
    "cfg.encoder_lr = 1e-4\n",
    "cfg.decoder_lr = 1e-4\n",
    "cfg.teacher_forcing_ratio = 1.0\n",
    "model.update_hyperparameters(cfg)\n",
    "for e in range(311,511):\n",
    "    loss = model.train_epoch(train_loader)\n",
    "    if e%10 == 0 :\n",
    "        print('Epoch -- >',e,'Loss -->',loss)\n",
    "        print(test_evaluator.evaluate(model,e))"
   ]
  },
  {
   "cell_type": "code",
   "execution_count": 5,
   "metadata": {},
   "outputs": [],
   "source": [
    "#torch.save(model,'msrvtt_lstm_mp.pt')\n",
    "model = torch.load('msrvtt_lstm_mp.pt')"
   ]
  },
  {
   "cell_type": "code",
   "execution_count": 10,
   "metadata": {},
   "outputs": [],
   "source": [
    "\n",
    "dataiter = iter(test_loader)"
   ]
  },
  {
   "cell_type": "code",
   "execution_count": 11,
   "metadata": {},
   "outputs": [
    {
     "data": {
      "text/plain": [
       "(torch.Size([10, 1536]),\n",
       " tensor([  85, 2248, 1863,    2,    0,    0,    0,    0,    0,    0,    0,    0,\n",
       "            0,    0,    0]),\n",
       " tensor([1, 1, 1, 1, 0, 0, 0, 0, 0, 0, 0, 0, 0, 0, 0]),\n",
       " 15)"
      ]
     },
     "execution_count": 11,
     "metadata": {},
     "output_type": "execute_result"
    }
   ],
   "source": [
    "features, target, mask, max_length,ides= dataiter.next()\n",
    "\n",
    "features.size(), target[:,5], mask[:,5],max_length"
   ]
  },
  {
   "cell_type": "code",
   "execution_count": 12,
   "metadata": {},
   "outputs": [
    {
     "data": {
      "text/plain": [
       "['a group of people are dancing',\n",
       " 'a man is singing',\n",
       " 'a man is singing a song',\n",
       " 'a person is folding a paper',\n",
       " 'a group of people are playing a basketball',\n",
       " 'a man is dancing',\n",
       " 'a man is riding a motorcycle',\n",
       " 'a person is folding a piece of paper',\n",
       " 'a person is cooking a dish',\n",
       " 'a person is folding a paper airplane']"
      ]
     },
     "execution_count": 12,
     "metadata": {},
     "output_type": "execute_result"
    }
   ],
   "source": [
    "tsr,txt = model.GreedyDecoding(features.to(cfg.device))\n",
    "txt"
   ]
  },
  {
   "cell_type": "code",
   "execution_count": 13,
   "metadata": {},
   "outputs": [
    {
     "data": {
      "text/plain": [
       "['a man is singing a song and playing guitar and dancing with other s EOS',\n",
       " 'a man dances at a wedding EOS PAD PAD PAD PAD PAD PAD PAD PAD',\n",
       " 'a woman is singing EOS PAD PAD PAD PAD PAD PAD PAD PAD PAD PAD',\n",
       " 'someone is folding paper EOS PAD PAD PAD PAD PAD PAD PAD PAD PAD PAD',\n",
       " 'people fighting in a basketball game EOS PAD PAD PAD PAD PAD PAD PAD PAD',\n",
       " 'people do karate EOS PAD PAD PAD PAD PAD PAD PAD PAD PAD PAD PAD',\n",
       " 'footage from a monster truck style event followed by a frat party EOS PAD PAD',\n",
       " 'a person folding a piece of paper into a paper airplane EOS PAD PAD PAD',\n",
       " 'person lighting a kettle EOS PAD PAD PAD PAD PAD PAD PAD PAD PAD PAD',\n",
       " 'person folding paper EOS PAD PAD PAD PAD PAD PAD PAD PAD PAD PAD PAD']"
      ]
     },
     "execution_count": 13,
     "metadata": {},
     "output_type": "execute_result"
    }
   ],
   "source": [
    "utils.target_tensor_to_caption(voc,target)"
   ]
  },
  {
   "cell_type": "code",
   "execution_count": null,
   "metadata": {},
   "outputs": [],
   "source": [
    "print(test_evaluator.evaluate(model,500))"
   ]
  }
 ],
 "metadata": {
  "kernelspec": {
   "display_name": "Python 3",
   "language": "python",
   "name": "python3"
  },
  "language_info": {
   "codemirror_mode": {
    "name": "ipython",
    "version": 3
   },
   "file_extension": ".py",
   "mimetype": "text/x-python",
   "name": "python",
   "nbconvert_exporter": "python",
   "pygments_lexer": "ipython3",
   "version": "3.8.5"
  }
 },
 "nbformat": 4,
 "nbformat_minor": 2
}
